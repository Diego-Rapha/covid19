{
 "cells": [
  {
   "cell_type": "markdown",
   "id": "66934d9e-8ab6-442f-91fb-ea612e5b72ad",
   "metadata": {},
   "source": [
    "# Projeto COVID-19\n",
    "## Digital Innovation One\n",
    "\n",
    "Primeiro vamos importar algumas bibliotecas necessárias para o nosso projeto"
   ]
  },
  {
   "cell_type": "code",
   "execution_count": null,
   "id": "883cb173-214c-4957-bb0a-bb6d34cc5fad",
   "metadata": {},
   "outputs": [],
   "source": [
    "import pandas as pd\n",
    "import numpy as np\n",
    "from datetime import datetime\n",
    "import plotly.express as px\n",
    "import plotly.graph_objects as go"
   ]
  },
  {
   "cell_type": "markdown",
   "id": "3660e6cb-be25-4ed2-af12-149928ca8b20",
   "metadata": {},
   "source": [
    "# Vamos importar os dados para o projeto"
   ]
  },
  {
   "cell_type": "code",
   "execution_count": null,
   "id": "6ebc42f7-5cab-4789-9ea6-f379c58679d5",
   "metadata": {},
   "outputs": [],
   "source": [
    "url = 'https://github.com/neylsoncrepalde/projeto_eda_covid/blob/master/covid_19_data.csv?raw=true'"
   ]
  },
  {
   "cell_type": "code",
   "execution_count": null,
   "id": "9b4107db-4543-496c-bb47-5e0ae92de914",
   "metadata": {},
   "outputs": [],
   "source": [
    "df = pd.read_csv(url, parse_dates=['ObservationDate', 'Last Update'])\n",
    "df"
   ]
  },
  {
   "cell_type": "markdown",
   "id": "e44a7e9f-b78f-48fc-a3d3-a36f9b36a322",
   "metadata": {},
   "source": [
    "# Conferir os tipos de dados de cada coluna"
   ]
  },
  {
   "cell_type": "code",
   "execution_count": null,
   "id": "a11534c6-929d-4134-92e2-4fac769ed841",
   "metadata": {},
   "outputs": [],
   "source": [
    "df.dtypes"
   ]
  },
  {
   "cell_type": "markdown",
   "id": "ef2fe220-bfbb-4133-b879-b61cdbdac4d9",
   "metadata": {},
   "source": [
    "Nomes de colunas não devem ter letras maiúsculas e nem caracteres especiais. Vamos implementar uma função para fazer a limpeza dos nomes dessas colunas."
   ]
  },
  {
   "cell_type": "code",
   "execution_count": null,
   "id": "932d58a3-ea12-4e84-8e35-cff24b825e9d",
   "metadata": {},
   "outputs": [],
   "source": [
    "import re\n",
    "\n",
    "def corrige_colunas(col_name):\n",
    "    return re.sub(r\"[/| ]\", \"\", col_name).lower()"
   ]
  },
  {
   "cell_type": "markdown",
   "id": "3587372e-2470-4ca6-aff6-2fd31a0ec467",
   "metadata": {},
   "source": [
    "Exemplo:"
   ]
  },
  {
   "cell_type": "code",
   "execution_count": null,
   "id": "c30e39fc-cd9d-471e-8c20-5e991c17e465",
   "metadata": {},
   "outputs": [],
   "source": [
    "corrige_colunas(\"agbBb/| P\")"
   ]
  },
  {
   "cell_type": "markdown",
   "id": "ea1be423-9d73-4f66-a36a-ffd9d08b9fcb",
   "metadata": {},
   "source": [
    "# Vamos corrigir todas as colunas do DF."
   ]
  },
  {
   "cell_type": "code",
   "execution_count": null,
   "id": "094ba05f-56a1-4280-9a62-70dccf0569f7",
   "metadata": {},
   "outputs": [],
   "source": [
    "df.columns = [corrige_colunas(col) for col in df.columns]"
   ]
  },
  {
   "cell_type": "code",
   "execution_count": null,
   "id": "f112284a-e362-4c4a-9f0c-4dcd75599b1f",
   "metadata": {},
   "outputs": [],
   "source": [
    "df"
   ]
  },
  {
   "cell_type": "markdown",
   "id": "a5ef6b3b-0231-474e-bf0b-6e6d97c0815a",
   "metadata": {},
   "source": [
    "Contagem de casos por países:"
   ]
  },
  {
   "cell_type": "code",
   "execution_count": null,
   "id": "40068209-347d-4484-8f06-9e255fb31ab2",
   "metadata": {},
   "outputs": [],
   "source": [
    "df.countryregion.value_counts()"
   ]
  },
  {
   "cell_type": "markdown",
   "id": "08079ef2-88d6-445c-b6e0-2ca6a6eb80c4",
   "metadata": {},
   "source": [
    "Lista de países:"
   ]
  },
  {
   "cell_type": "markdown",
   "id": "268a3afd-fac3-49a9-9a00-e5d3d5dd1117",
   "metadata": {},
   "source": [
    "## Brasil\n",
    "\n",
    "Vamos selecionar apenas os dados do Brasil para investigar"
   ]
  },
  {
   "cell_type": "code",
   "execution_count": null,
   "id": "b39f12a2-294e-4e28-94e8-080933488dfb",
   "metadata": {},
   "outputs": [],
   "source": [
    "df.loc[df.countryregion == \"Brazil\"]"
   ]
  },
  {
   "cell_type": "markdown",
   "id": "c72e84a4-a338-4885-a105-6d2b4c4cc49c",
   "metadata": {},
   "source": [
    "Linhas em que houveram ao menos um caso confirmado:"
   ]
  },
  {
   "cell_type": "code",
   "execution_count": null,
   "id": "fdfd31c7-4626-4634-b690-f5cf337c1491",
   "metadata": {},
   "outputs": [],
   "source": [
    "brasil = df.loc[\n",
    "    (df.countryregion == \"Brazil\") &\n",
    "    (df.confirmed > 0)\n",
    "\n",
    "]\n",
    "\n",
    "brasil"
   ]
  },
  {
   "cell_type": "markdown",
   "id": "bbec3dfd-175d-4526-a8d9-a4ac7fc414fb",
   "metadata": {},
   "source": [
    "# Casos Confirmados"
   ]
  },
  {
   "cell_type": "markdown",
   "id": "882042f1-f785-49df-8437-c40601b96502",
   "metadata": {},
   "source": [
    "## Gráfico da evolução de casos confirmados"
   ]
  },
  {
   "cell_type": "code",
   "execution_count": null,
   "id": "39f9334f-d8fa-486a-9717-7d3fc90293c1",
   "metadata": {},
   "outputs": [],
   "source": [
    "px.line(brasil, 'observationdate', 'confirmed', title = 'Casos confirmados no Brasil')"
   ]
  },
  {
   "cell_type": "markdown",
   "id": "7875f6bc-ac99-4f3c-ab80-60ecd46535a7",
   "metadata": {},
   "source": [
    "# Novos casos por dia"
   ]
  },
  {
   "cell_type": "markdown",
   "id": "9087b5d1-a75b-4224-9da3-cd6666db36be",
   "metadata": {},
   "source": [
    "### Técnica de programação funcional"
   ]
  },
  {
   "cell_type": "code",
   "execution_count": null,
   "id": "54fb320b-8006-4631-b48c-ec52f931b580",
   "metadata": {},
   "outputs": [],
   "source": [
    "brasil['novos casos'] = list(map(\n",
    "    \n",
    "    lambda x: 0 if (x==0) else brasil['confirmed'].iloc[x] - brasil['confirmed'].iloc[x-1],\n",
    "    np.arange(brasil.shape[0])\n",
    "\n",
    "))"
   ]
  },
  {
   "cell_type": "code",
   "execution_count": null,
   "id": "3d513a1f-09cf-499f-bb21-2ce861e62059",
   "metadata": {},
   "outputs": [],
   "source": [
    "brasil"
   ]
  },
  {
   "cell_type": "markdown",
   "id": "9031f06a-0fd2-4be7-adf8-bf6b66dcdb04",
   "metadata": {},
   "source": [
    "# Visualizando"
   ]
  },
  {
   "cell_type": "code",
   "execution_count": null,
   "id": "94be8b7a-c7e1-4ab6-a2ab-8a89e62b97fe",
   "metadata": {},
   "outputs": [],
   "source": [
    "px.line(brasil, x='observationdate', y='novos casos', title='Novos casos por dia')"
   ]
  },
  {
   "cell_type": "markdown",
   "id": "8257658a-5ee9-4e03-a9b7-5725b59e4799",
   "metadata": {},
   "source": [
    "# Mortes"
   ]
  },
  {
   "cell_type": "code",
   "execution_count": null,
   "id": "d7e20eba-3948-4422-a291-ffb89eeb6c81",
   "metadata": {},
   "outputs": [],
   "source": [
    "#Camada de dados\n",
    "\n",
    "fig = go.Figure()\n",
    "\n",
    "fig.add_trace(\n",
    "    go.Scatter(x=brasil.observationdate, y=brasil.deaths, name='Mortes', mode='lines+markers',\n",
    "              line=dict(color='red'))\n",
    ")\n",
    "\n",
    "#Edita o layout\n",
    "fig.update_layout(title='Mortes por COVID-19 no Brasil')\n",
    "fig.show()\n"
   ]
  },
  {
   "cell_type": "markdown",
   "id": "ddfb1287-3cc6-4bbc-b441-604902a69c21",
   "metadata": {},
   "source": [
    "# Taxa de crescimento\n",
    "\n",
    "### taxa_crescimento = (presente/passado)**(1/n) - 1"
   ]
  },
  {
   "cell_type": "code",
   "execution_count": null,
   "id": "a0a5a921-3673-4d33-b6c5-ddc3df1d7682",
   "metadata": {},
   "outputs": [],
   "source": [
    "def taxa_crescimento(data, variable, data_inicio=None, data_fim=None):\n",
    "    # Se data início for None, define como a primeira data de início.\n",
    "    if data_inicio == None:\n",
    "        data_inicio = data.observationdate.loc[data[variable] > 0].min()\n",
    "    else:\n",
    "        data_inicio.to_datetime(data_inicio)\n",
    "    \n",
    "    if data_fim==None:\n",
    "        data_fim = data.observationdate.iloc[-1]\n",
    "    else:\n",
    "        data_fim = data_fim.to_datetime(data_fim)\n",
    "    \n",
    "    # Definindo os valores do presente e passado\n",
    "    passado = data.loc[data.observationdate == data_inicio, variable].values[0]\n",
    "    presente = data.loc[data.observationdate == data_fim, variable].values[0]\n",
    "    \n",
    "    #Define o número de pontos no tempo que vamos avaliar\n",
    "    \n",
    "    n = (data_fim - data_inicio).days\n",
    "    \n",
    "    # Calcular a taxa\n",
    "    \n",
    "    taxa = (presente/passado)**(1/n)-1\n",
    "    \n",
    "    \n",
    "    #retornando a taxa em porcentagem\n",
    "    return taxa*100\n",
    "    "
   ]
  },
  {
   "cell_type": "markdown",
   "id": "3c09f4db-abf3-49af-bd27-be5e8333337b",
   "metadata": {},
   "source": [
    "### Taxa de crescimento médio no Brasil em todo o período"
   ]
  },
  {
   "cell_type": "code",
   "execution_count": null,
   "id": "58c3d8e5-1b71-48f5-ac4a-f38ab4265265",
   "metadata": {},
   "outputs": [],
   "source": [
    "taxa_crescimento(brasil, 'confirmed')"
   ]
  },
  {
   "cell_type": "markdown",
   "id": "ae461f78-6e07-4a78-a35e-12bea6b78604",
   "metadata": {},
   "source": [
    "### Estabelecendo a taxa de crescimento diário"
   ]
  },
  {
   "cell_type": "code",
   "execution_count": null,
   "id": "b3fa7f6d-1398-4cd3-a617-5e7c294b017b",
   "metadata": {},
   "outputs": [],
   "source": [
    "def taxa_crescimento_diario(data, variable, data_inicio=None):\n",
    "     # Se data início for None, define como a primeira data de início.\n",
    "    if data_inicio == None:\n",
    "        data_inicio = data.observationdate.loc[data[variable] > 0].min()\n",
    "    else:\n",
    "        data_inicio.to_datetime(data_inicio)\n",
    "    \n",
    "    data_fim = data.observationdate.max()\n",
    "    \n",
    "    #Define o número de pontos no tempo que vamos avaliar\n",
    "    \n",
    "    n = (data_fim - data_inicio).days\n",
    "    \n",
    "# Taxa calculada de um dia para o outro\n",
    "    taxas  = list(map(\n",
    "        lambda x: (data[variable].iloc[x] - data[variable].iloc[x-1]) / data[variable].iloc[x-1],\n",
    "        range(1, n+1) \n",
    "    ))\n",
    "    return np.array(taxas) * 100"
   ]
  },
  {
   "cell_type": "code",
   "execution_count": null,
   "id": "937480e8-e409-456d-99e9-f2d8dd49d2a7",
   "metadata": {},
   "outputs": [],
   "source": [
    "tx_dia = taxa_crescimento_diario(brasil, 'confirmed')"
   ]
  },
  {
   "cell_type": "code",
   "execution_count": null,
   "id": "5da37297-6bb0-4d39-a319-d828f80d7d01",
   "metadata": {},
   "outputs": [],
   "source": [
    "tx_dia"
   ]
  },
  {
   "cell_type": "code",
   "execution_count": null,
   "id": "10368634-2da8-49fe-a35b-fb16a9f9fee5",
   "metadata": {},
   "outputs": [],
   "source": [
    "primeiro_dia = brasil.observationdate.loc[brasil.confirmed > 0].min()\n",
    "\n",
    "px.line(x=pd.date_range(primeiro_dia, brasil.observationdate.max())[1:],\n",
    "       y=tx_dia, title='Taxa de crescimento de casos confirmados no Brasil')"
   ]
  },
  {
   "cell_type": "markdown",
   "id": "8d8787fc-4238-4ff1-8e8d-2bde8b2f92ee",
   "metadata": {},
   "source": [
    "# Predições"
   ]
  },
  {
   "cell_type": "code",
   "execution_count": null,
   "id": "388075ed-47ff-49ba-8400-076edba84752",
   "metadata": {},
   "outputs": [],
   "source": [
    "from statsmodels.tsa.seasonal import seasonal_decompose\n",
    "import matplotlib.pyplot as plt"
   ]
  },
  {
   "cell_type": "code",
   "execution_count": null,
   "id": "2c84cef2-227c-44ae-9fc7-72f837160e55",
   "metadata": {},
   "outputs": [],
   "source": [
    "confirmados = brasil.confirmed\n",
    "confirmados.index = brasil.observationdate\n",
    "confirmados"
   ]
  },
  {
   "cell_type": "code",
   "execution_count": null,
   "id": "3c9195a4-4816-49a6-85c4-742f134da1e8",
   "metadata": {},
   "outputs": [],
   "source": [
    "res = seasonal_decompose(confirmados)"
   ]
  },
  {
   "cell_type": "code",
   "execution_count": null,
   "id": "939a1dc9-87d6-48c7-876e-3422cb1c5377",
   "metadata": {},
   "outputs": [],
   "source": [
    "fig, (ax1, ax2, ax3, ax4) = plt.subplots(4, 1, figsize=(10,8))\n",
    "\n",
    "ax1.plot(res.observed)\n",
    "ax2.plot(res.trend)\n",
    "ax3.plot(res.seasonal)\n",
    "ax4.plot(confirmados.index, res.resid)\n",
    "ax4.axhline(0, linestyle='dashed', c='black')\n",
    "plt.show()"
   ]
  },
  {
   "cell_type": "markdown",
   "id": "81b31ff1-b057-4171-a2ea-26442c0e10e9",
   "metadata": {},
   "source": [
    "# Modelando dados com biblioteca ARIMA"
   ]
  },
  {
   "cell_type": "code",
   "execution_count": null,
   "id": "b3b46089-19a7-4818-9045-8a19bba55354",
   "metadata": {},
   "outputs": [],
   "source": [
    "%pip install pmdarima"
   ]
  },
  {
   "cell_type": "code",
   "execution_count": null,
   "id": "6dee0430-095b-478f-9d1d-b33a5e22381c",
   "metadata": {},
   "outputs": [],
   "source": [
    "from pmdarima.arima import auto_arima\n",
    "modelo = auto_arima(confirmados)"
   ]
  },
  {
   "cell_type": "code",
   "execution_count": null,
   "id": "7460ea5d-fd66-4727-9bbd-f0d5cbc5512f",
   "metadata": {},
   "outputs": [],
   "source": [
    "fig = go.Figure(go.Scatter(\n",
    "    \n",
    "    x=confirmados.index, y=confirmados, name='Observados'\n",
    "    \n",
    "))\n",
    "\n",
    "\n",
    "fig.add_trace(go.Scatter(\n",
    "    x=confirmados.index, y=modelo.predict_in_sample(), name='Preditos'\n",
    "\n",
    "))\n",
    "\n",
    "\n",
    "fig.add_trace(go.Scatter(\n",
    "    \n",
    "    x=pd.date_range('2020-05-20', '2020-06-20'), y=modelo.predict(31), name='Forecast'\n",
    "    \n",
    "))\n",
    "\n",
    "\n",
    "fig.update_layout(title='Previsão de casos confirmados no Brasil para os próximos 30 dias.')\n",
    "\n",
    "fig.show()"
   ]
  },
  {
   "cell_type": "markdown",
   "id": "bbd0cfc4-12f9-4da5-b660-7ea29bb1bfb1",
   "metadata": {},
   "source": [
    "# Modelo de crescimento com a biblioteca fbprophet"
   ]
  },
  {
   "cell_type": "code",
   "execution_count": null,
   "id": "8a2c3555-7c1b-4382-90ca-b724b42fb100",
   "metadata": {},
   "outputs": [],
   "source": [
    "%conda install -c conda-forge fbprophet -y"
   ]
  },
  {
   "cell_type": "code",
   "execution_count": null,
   "id": "799dabbf-a3db-4673-839c-77d330103095",
   "metadata": {},
   "outputs": [],
   "source": [
    "from prophet import Prophet"
   ]
  },
  {
   "cell_type": "code",
   "execution_count": null,
   "id": "05a05eab-e509-4dc6-84fe-b3471944ded2",
   "metadata": {},
   "outputs": [],
   "source": [
    "# preparando os dados\n",
    "train = confirmados.reset_index()[:-5]\n",
    "test = confirmados.reset_index()[-5:]\n",
    "\n",
    "# renomeia colunas\n",
    "train.rename(columns={\"observationdate\":\"ds\",\"confirmed\":\"y\"},inplace=True)\n",
    "test.rename(columns={\"observationdate\":\"ds\",\"confirmed\":\"y\"},inplace=True)\n",
    "test = test.set_index(\"ds\")\n",
    "test = test['y']\n",
    "\n",
    "profeta = Prophet(growth=\"logistic\", changepoints=['2020-03-21', '2020-03-30', '2020-04-25', '2020-05-03', '2020-05-10'])\n",
    "\n",
    "#pop = 1000000\n",
    "pop = 211463256 #https://www.ibge.gov.br/apps/populacao/projecao/box_popclock.php\n",
    "train['cap'] = pop\n",
    "\n",
    "# Treina o modelo\n",
    "profeta.fit(train)\n",
    "\n",
    "# Construindo previsões para o futuro\n",
    "future_dates = profeta.make_future_dataframe(periods=200)\n",
    "future_dates['cap'] = pop\n",
    "forecast =  profeta.predict(future_dates)"
   ]
  },
  {
   "cell_type": "code",
   "execution_count": null,
   "id": "fa8a0345-d35e-445d-8cf1-fa79725d84a6",
   "metadata": {},
   "outputs": [],
   "source": [
    "fig = go.Figure()\n",
    "\n",
    "fig.add_trace(go.Scatter(x=forecast.ds, y=forecast.yhat, name='Predição'))\n",
    "fig.add_trace(go.Scatter(x=test.index, y=test, name='Observados - Teste'))\n",
    "fig.add_trace(go.Scatter(x=train.ds, y=train.y, name='Observados - Treino'))\n",
    "fig.update_layout(title='Predições de casos confirmados no Brasil')\n",
    "fig.show()"
   ]
  },
  {
   "cell_type": "code",
   "execution_count": null,
   "id": "52810da1-4326-468b-b178-239c3f1b7027",
   "metadata": {},
   "outputs": [],
   "source": []
  }
 ],
 "metadata": {
  "kernelspec": {
   "display_name": "Python 3 (ipykernel)",
   "language": "python",
   "name": "python3"
  },
  "language_info": {
   "codemirror_mode": {
    "name": "ipython",
    "version": 3
   },
   "file_extension": ".py",
   "mimetype": "text/x-python",
   "name": "python",
   "nbconvert_exporter": "python",
   "pygments_lexer": "ipython3",
   "version": "3.9.13"
  }
 },
 "nbformat": 4,
 "nbformat_minor": 5
}
